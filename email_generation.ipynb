{
 "cells": [
  {
   "cell_type": "code",
   "execution_count": 1,
   "id": "6abd5349-4a16-437e-b3f6-25be5e7be011",
   "metadata": {},
   "outputs": [],
   "source": [
    "from langchain_groq import ChatGroq "
   ]
  },
  {
   "cell_type": "code",
   "execution_count": 5,
   "id": "cf88ca68-1f7a-48a5-8d6b-34893cbcfc68",
   "metadata": {},
   "outputs": [
    {
     "name": "stdout",
     "output_type": "stream",
     "text": [
      "What a great question!\n",
      "\n",
      "While opinions may vary, I'd argue that the best all-format batsman for South Africa in the modern age is AB de Villiers. Here's why:\n",
      "\n",
      "1. **Consistency**: De Villiers has been an incredibly consistent performer across all formats, with a career spanning over 15 years. He has played 114 Tests, 228 ODIs, and 78 T20Is, with an impressive average in each format.\n",
      "2. **Test cricket**: In Tests, de Villiers averages 50.66, with 22 centuries and 46 fifties. He has been instrumental in many of South Africa's victories, including a memorable series win in Australia in 2012-13.\n",
      "3. **ODI cricket**: In ODIs, de Villiers averages 53.50, with 25 centuries and 59 fifties. He has been a key player in South Africa's ODI team, helping them reach the semifinals of the 2015 World Cup.\n",
      "4. **T20 cricket**: In T20Is, de Villiers averages 26.12, with a strike rate of 135.16. While his T20I average might not be as high as his Test or ODI average, he has been a destructive force in the format, with a highest score of 79*.\n",
      "5. **Innovative style**: De Villiers is known for his unorthodox and innovative batting style, which has made him a nightmare for bowlers across formats. His ability to play 360-degree cricket, combined with his exceptional hand-eye coordination, has made him a joy to watch.\n",
      "6. **Leadership**: De Villiers has also been an effective captain, leading South Africa in all formats. He has a strong tactical mind and has inspired his teammates with his leadership.\n",
      "\n",
      "While other South African batsmen, like Hashim Amla, Jacques Kallis, and Faf du Plessis, have also had impressive careers, AB de Villiers' consistency, innovative style, and leadership qualities make a strong case for him as the best all-format batsman for South Africa in the modern age.\n"
     ]
    }
   ],
   "source": [
    "llm = ChatGroq(\n",
    "    temperature=0,\n",
    "    groq_api_key = <your api key>,\n",
    "    model_name = 'llama3-70b-8192'\n",
    ")\n",
    "\n",
    "response = llm.invoke('The best all format South Africa batsman of modern age is ...')\n",
    "\n",
    "print(response.content)"
   ]
  },
  {
   "cell_type": "code",
   "execution_count": 9,
   "id": "e9fcf45a-9a66-43bb-b189-3bebd4fc8dc2",
   "metadata": {},
   "outputs": [
    {
     "name": "stderr",
     "output_type": "stream",
     "text": [
      "USER_AGENT environment variable not set, consider setting it to identify your requests.\n"
     ]
    }
   ],
   "source": [
    "from langchain_community.document_loaders import WebBaseLoader"
   ]
  },
  {
   "cell_type": "code",
   "execution_count": 15,
   "id": "30b9e4ef-7322-4f4b-8b42-5b37752f7b07",
   "metadata": {},
   "outputs": [
    {
     "name": "stdout",
     "output_type": "stream",
     "text": [
      "Search Jobs — Google CareersCareersSkip navigation linkshomehomeHomeHomework_outlinework_outlineJobsJobsnoogler_hatnoogler_hatStudentsStudentsgooglegoogleHow we workHow we workhandymanhandymanHow we hireHow we hireperson_outlineperson_outlineYour careerYour careerhelp_outlineHelp linkfeedbackSend feedbackmore_vert HelpSend FeedbackSign inCareershomeHomework_outlineJobsexpand_lessJob searchRecommended jobsSaved jobsJob alertsnoogler_hatStudentsexpand_moregoogleHow we workexpand_morehandymanHow we hireexpand_moreperson_outlineYour careerexpand_moreSearch JobsSearch sidebar2,915  jobs matchedClear filtersWhat do you want to do?Locationsexpand_moreExperienceexpand_moreSkills & qualificationsexpand_moreDegreeexpand_moreJob typesexpand_moreOrganizationsexpand_moreSort byexpand_moreFollow Life at Google on More about usAbout usopen_in_newContact usopen_in_newPressopen_in_newRelated InformationInvestor relationsopen_in_newBlogopen_in_newEqual OpportunityGoogle is proud to be an equal opportunity and affirmative action employer. We are committed to building a workforce that is representative of the users we serve, creating a culture of belonging, and providing an equal employment opportunity regardless of race, creed, color, religion, gender, sexual orientation, gender identity/expression, national origin, disability, age, genetic information, veteran status, marital status, pregnancy or related condition (including breastfeeding), expecting or parents-to-be, criminal histories consistent with legal requirements, or any other basis protected by law. See also  Google's EEO Policy, Know your rights: workplace discrimination is illegal, Belonging at Google, and How we hire.More about usexpand_moreRelated informationexpand_moreEqual opportunityexpand_morePrivacyopen_in_newApplicant & Candidate Privacyopen_in_newTermsopen_in_newhelpHelpopen_in_newJobs search results2,915  jobs matchedfilter_listSoftware Engineer III, Infrastructure, Corecorporate_fareGoogleplaceBengaluru, Karnataka, Indiabar_chartMidMidExperience driving progress, solving problems, and mentoring more junior team members; deeper expertise and applied knowledge within relevant area.Google | Bengaluru, Karnataka, IndiaMinimum qualifications\n",
      "Bachelor’s degree or equivalent practical experience.\n",
      "2 years of experience with software development in one or more programming languages, or 1 year of experience with an advanced degree.\n",
      "\n",
      "2 years of experience with data structures or algorithms in either an academic or industry setting.\n",
      "Learn moreshare linkCopy linkemailEmail a friendSenior Software Engineer, Android Partnercorporate_fareGoogleplaceWarsaw, Polandbar_chartMidMidExperience driving progress, solving problems, and mentoring more junior team members; deeper expertise and applied knowledge within relevant area.Google | Warsaw, PolandMinimum qualifications\n",
      "Bachelor’s degree or equivalent practical experience.\n",
      "\n",
      "\n",
      "\n",
      "5 years of experience with software development in one or more programming languages, and with data structures/algorithms.\n",
      "Experience designing, analyzing and troubleshooting large-scale distributed systems.\n",
      "Learn moreshare linkCopy linkemailEmail a friendPersistent Disk Capacity Team Leadercorporate_fareGoogleplaceKirkland, WA, USAbar_chartAdvancedAdvancedExperience owning outcomes and decision making, solving ambiguous problems and influencing stakeholders; deep expertise in domain.Google | Kirkland, WA, USAMinimum qualifications\n",
      "Bachelor’s degree or equivalent practical experience.\n",
      "8 years of experience in software development.\n",
      "Learn moreshare linkCopy linkemailEmail a friendSoftware Engineer III, Google Cloudcorporate_fareGoogleplaceBengaluru, Karnataka, India; Pune, Maharashtra, India; +2 more; +1 morebar_chartMidMidExperience driving progress, solving problems, and mentoring more junior team members; deeper expertise and applied knowledge within relevant area.Google | Bengaluru, Karnataka, India; Pune, Maharashtra, India; +2 more; +1 moreMinimum qualifications\n",
      "Bachelor’s degree or equivalent practical experience.\n",
      "2 years of experience with software development in one or more programming languages, or 1 year of experience with an advanced degree.\n",
      "\n",
      "2 years of experience with data structures or algorithms.\n",
      "\n",
      "Learn moreshare linkCopy linkemailEmail a friendGrowth Manager, App Developer Sales (English, Mandarin)corporate_fareGoogleplaceShanghai, China; Beijing, Chinabar_chartEarlyEarlyExperience completing work as directed, and collaborating with teammates; developing knowledge of relevant concepts and processes.Google | Shanghai, China; Beijing, ChinaMinimum qualifications\n",
      "Bachelor's degree or equivalent practical experience.\n",
      "2 years of experience in advertising, consultative sales, business development, online media environment, or a marketing role.\n",
      "Ability to communicate fluently in English and Mandarin to engage with clients in the region.\n",
      "Learn moreshare linkCopy linkemailEmail a friendSecurity Sales Specialist, Small/Medium Businesses (German)corporate_fareGoogleplaceDublin, Irelandbar_chartMidMidExperience driving progress, solving problems, and mentoring more junior team members; deeper expertise and applied knowledge within relevant area.Google | Dublin, IrelandMinimum qualifications\n",
      "Bachelor's degree or equivalent practical experience.\n",
      "7 years of experience in renewals, account management, sales, or a customer-facing role in the enterprise software or cloud space.\n",
      "Experience selling to clients in the enterprise cybersecurity or IT field.\n",
      "Ability to communicate in German fluently to support client relationship management.\n",
      "Ability to travel up to 25% of the time.\n",
      "Learn moreshare linkCopy linkemailEmail a friendNetwork RTL Design Engineer, Google Cloudcorporate_fareGoogleplaceTel Aviv, Israel; Haifa, Israelbar_chartMidMidExperience driving progress, solving problems, and mentoring more junior team members; deeper expertise and applied knowledge within relevant area.Google | Tel Aviv, Israel; Haifa, IsraelMinimum qualifications\n",
      "Bachelor's degree in Computer Science, a related field, or equivalent practical experience.\n",
      "10 years of experience architecting networking ASICs from specification to production.\n",
      "Experience working with design networking like: RDMA and or packet processing and system design principles for low latency, throughput, security, and reliability.\n",
      "Experience developing RTL for ASIC subsystems.\n",
      "Experience in cross-functional, micro-architecture, design, verification, logic synthesis, and timing closure.\n",
      "Learn moreshare linkCopy linkemailEmail a friendAccount Manager, Large Customer Sales (English, Thai)corporate_fareGoogleplaceBangkok, Thailandbar_chartEarlyEarlyExperience completing work as directed, and collaborating with teammates; developing knowledge of relevant concepts and processes.Google | Bangkok, ThailandMinimum qualifications\n",
      "Bachelor's degree or equivalent practical experience.\n",
      "2 years of experience in advertising, consultative sales, business development, online media environment, or marketing role.\n",
      "Ability to communicate in Thai and English fluently in order to interact in this customer-facing sales role.\n",
      "Learn moreshare linkCopy linkemailEmail a friendSenior System Software Engineer, Embedded Systems, Firmware, Pixelcorporate_fareGoogleplaceNew Taipei, Banqiao District, New Taipei City, Taiwanbar_chartMidMidExperience driving progress, solving problems, and mentoring more junior team members; deeper expertise and applied knowledge within relevant area.Google | New Taipei, Banqiao District, New Taipei City, TaiwanMinimum qualifications\n",
      "Bachelor’s degree or equivalent practical experience.\n",
      "5 years of experience with software development in C programming language, Android BSP and Linux Drivers.\n",
      "3 years of experience testing, maintaining, or launching software products, and 1 year of experience with software design and architecture.\n",
      "3 years of experience working with embedded operating systems.\n",
      "Learn moreshare linkCopy linkemailEmail a friendSenior Software Engineer, Chrome Product Securitycorporate_fareGoogleplaceMexico City, CDMX, Mexicobar_chartMidMidExperience driving progress, solving problems, and mentoring more junior team members; deeper expertise and applied knowledge within relevant area.Google | Mexico City, CDMX, MexicoMinimum qualifications\n",
      "Bachelor’s degree or equivalent practical experience.\n",
      "\n",
      "5 years of experience with software development in one or more programming languages, and with data structures/algorithms.\n",
      "3 years of experience testing, maintaining, or launching software products, and 1 year of experience with software design and architecture.\n",
      "\n",
      "3 years of experience building software for data privacy or security (e.g., identity and access management).\n",
      "\n",
      "Learn moreshare linkCopy linkemailEmail a friendBusiness Intelligence Analyst, Cloud Supportcorporate_fareGoogleplaceWaterloo, ON, Canadabar_chartMidMidExperience driving progress, solving problems, and mentoring more junior team members; deeper expertise and applied knowledge within relevant area.Google | Waterloo, ON, CanadaMinimum qualifications\n",
      "Bachelor's degree or equivalent practical experience.\n",
      "7 years of experience in a data, BI, or related role.\n",
      "Experience in SQL and designing and implementing data pipelines.\n",
      "Learn moreshare linkCopy linkemailEmail a friendCustomer Engineer, Infrastructure Modernization, Public Sectorcorporate_fareGoogleplaceBucharest, Romaniabar_chartMidMidExperience driving progress, solving problems, and mentoring more junior team members; deeper expertise and applied knowledge within relevant area.Google | Bucharest, RomaniaMinimum qualifications\n",
      "Bachelor's degree or equivalent practical experience.\n",
      "6 years of experience with cloud infrastructure engineering, on-premise infrastructure engineering, virtualization, or containerization platforms.\n",
      "Experience engaging with, and presenting to, technical stakeholders and executive leaders.\n",
      "Learn moreshare linkCopy linkemailEmail a friendSoftware Engineer II, Multiplatform, Server Driven UI (English)corporate_fareGoogleplaceMexico City, CDMX, Mexicobar_chartEarlyEarlyExperience completing work as directed, and collaborating with teammates; developing knowledge of relevant concepts and processes.Google | Mexico City, CDMX, MexicoMinimum qualifications\n",
      "Bachelor’s degree or equivalent practical experience.\n",
      "1 year of experience with software development in one or more programming languages (e.g., Python, C, C++, Java, JavaScript).\n",
      "1 year of experience with data structures or algorithms.\n",
      "Ability to communicate in English fluently to interact with local stakeholders in this customer-facing role.\n",
      "Learn moreshare linkCopy linkemailEmail a friendCustom Silicon Assembly and Test Operation Engineercorporate_fareGoogleplaceNew Taipei, Banqiao District, New Taipei City, Taiwanbar_chartMidMidExperience driving progress, solving problems, and mentoring more junior team members; deeper expertise and applied knowledge within relevant area.Google | New Taipei, Banqiao District, New Taipei City, TaiwanMinimum qualifications\n",
      "Bachelor's degree in a technical field, or equivalent practical experience. \n",
      "5 years of experience in program management.\n",
      "5 years of experience in semiconductor manufacturing/testing industry.\n",
      "Experience with SoC and PMIC productization.\n",
      "Learn moreshare linkCopy linkemailEmail a friendStrategic Partner Manager, Large Partner, Sellside Monetizationcorporate_fareGoogleplaceBeijing, China; Shanghai, Chinabar_chartEarlyEarlyExperience completing work as directed, and collaborating with teammates; developing knowledge of relevant concepts and processes.Google | Beijing, China; Shanghai, ChinaMinimum qualifications\n",
      "Bachelor's degree or equivalent practical experience.\n",
      "1 year of experience in client management and business or a related role.\n",
      "Ability to communicate in Mandarin and English fluently to partner with local clients and region partners.\n",
      "Learn moreshare linkCopy linkemailEmail a friendEngineering Manager, Unified Autoscaling Teamcorporate_fareGoogleplaceWarsaw, Polandbar_chartAdvancedAdvancedExperience owning outcomes and decision making, solving ambiguous problems and influencing stakeholders; deep expertise in domain.Google | Warsaw, PolandMinimum qualifications\n",
      "Bachelor's degree or equivalent practical experience.\n",
      "8 years of experience with software development in one or more programming languages (e.g., Python, C, C++, Java, JavaScript).\n",
      "3 years of experience in a technical leadership role, overseeing projects, with 2 years of experience in a people management, supervision/team leadership role.\n",
      "Learn moreshare linkCopy linkemailEmail a friendPrincipal Architect, Google Cloudcorporate_fareGoogleplaceChicago, IL, USA; Novi, MI, USA; +3 more; +2 morelaptop_windowsRemote eligiblebar_chartAdvancedAdvancedExperience owning outcomes and decision making, solving ambiguous problems and influencing stakeholders; deep expertise in domain.Google | Chicago, IL, USA; Novi, MI, USA; +3 more; +2 more | Remote eligibleMinimum qualifications\n",
      "Bachelor's degree or equivalent practical experience.\n",
      "10 years of experience with cloud native architecture in a customer-facing or support role.\n",
      "Experience with API technologies, such as Geospatial API technology, and experience with mapping application development and integration, using Google Map Platform or other Location or Maps platforms on web or mobile platforms (e.g. Android).\n",
      "Learn moreshare linkCopy linkemailEmail a friendAccount Strategist, SBS Engage, GCS, (Ukrainian, English)corporate_fareGoogleplaceDublin, Irelandbar_chartEarlyEarlyExperience completing work as directed, and collaborating with teammates; developing knowledge of relevant concepts and processes.Google | Dublin, IrelandMinimum qualifications\n",
      "Bachelor's degree or equivalent practical experience.\n",
      "2 years of experience in advertising, sales, marketing, consulting, or media.\n",
      "Ability to communicate in Ukrainian and English fluently to support client relationship management in this region.\n",
      "Learn moreshare linkCopy linkemailEmail a friendSoftware Engineer, gReach Program for People with Disabilities (장애인 채용)corporate_fareGoogleplaceSeoul, South Koreabar_chartEarlyEarlyExperience completing work as directed, and collaborating with teammates; developing knowledge of relevant concepts and processes.Google | Seoul, South KoreaMinimum qualifications\n",
      "Bachelor’s degree or equivalent practical experience.\n",
      "1 year of experience with software development in one or more programming languages (e.g., Python, C, C++, Java, JavaScript).\n",
      "1 year of experience with data structures or algorithms.\n",
      "Ability to communicate in English and Korean fluently to collaborate with cross-functional teams in APAC and support client relationship management in Korea.\n",
      "Learn moreshare linkCopy linkemailEmail a friendProgram Manager, AI Data Operationscorporate_fareGoogleplaceHyderabad, Telangana, India; Bengaluru, Karnataka, Indiabar_chartMidMidExperience driving progress, solving problems, and mentoring more junior team members; deeper expertise and applied knowledge within relevant area.Google | Hyderabad, Telangana, India; Bengaluru, Karnataka, IndiaMinimum qualifications\n",
      "Bachelor's degree or equivalent practical experience.\n",
      "5 years of experience in program management.\n",
      "Experience managing programs and processes across distributed systems.\n",
      "Learn moreshare linkCopy linkemailEmail a friend1‑20 of 2915navigate_nextFollow Life at Google on More about usAbout usopen_in_newContact usopen_in_newPressopen_in_newRelated InformationInvestor relationsopen_in_newBlogopen_in_newEqual OpportunityGoogle is proud to be an equal opportunity and affirmative action employer. We are committed to building a workforce that is representative of the users we serve, creating a culture of belonging, and providing an equal employment opportunity regardless of race, creed, color, religion, gender, sexual orientation, gender identity/expression, national origin, disability, age, genetic information, veteran status, marital status, pregnancy or related condition (including breastfeeding), expecting or parents-to-be, criminal histories consistent with legal requirements, or any other basis protected by law. See also  Google's EEO Policy, Know your rights: workplace discrimination is illegal, Belonging at Google, and How we hire.More about usexpand_moreRelated informationexpand_moreEqual opportunityexpand_morePrivacyopen_in_newApplicant & Candidate Privacyopen_in_newTermsopen_in_newhelpHelpopen_in_newFollow Life at Google on More about usAbout usopen_in_newContact usopen_in_newPressopen_in_newRelated InformationInvestor relationsopen_in_newBlogopen_in_newEqual OpportunityGoogle is proud to be an equal opportunity and affirmative action employer. We are committed to building a workforce that is representative of the users we serve, creating a culture of belonging, and providing an equal employment opportunity regardless of race, creed, color, religion, gender, sexual orientation, gender identity/expression, national origin, disability, age, genetic information, veteran status, marital status, pregnancy or related condition (including breastfeeding), expecting or parents-to-be, criminal histories consistent with legal requirements, or any other basis protected by law. See also  Google's EEO Policy, Know your rights: workplace discrimination is illegal, Belonging at Google, and How we hire.More about usexpand_moreRelated informationexpand_moreEqual opportunityexpand_morePrivacyopen_in_newApplicant & Candidate Privacyopen_in_newTermsopen_in_newhelpHelpopen_in_newGoogle appsMain menu\n"
     ]
    }
   ],
   "source": [
    "loader = WebBaseLoader('https://careers.google.com/jobs/results/')\n",
    "page_data = loader.load().pop().page_content\n",
    "print(page_data)"
   ]
  },
  {
   "cell_type": "code",
   "execution_count": 17,
   "id": "8c4f7222-5da7-4bea-ac29-21e5ad892216",
   "metadata": {},
   "outputs": [],
   "source": [
    "from langchain_core.prompts import PromptTemplate"
   ]
  },
  {
   "cell_type": "code",
   "execution_count": 19,
   "id": "7892f4bd-6846-47a5-9548-b7131bdcd5a5",
   "metadata": {},
   "outputs": [],
   "source": [
    "prompt_extract = PromptTemplate.from_template(\n",
    "        \"\"\"\n",
    "        ### SCRAPED TEXT FROM WEBSITE:\n",
    "        {page_data}\n",
    "        ### INSTRUCTION:\n",
    "        The scraped text is from the career's page of a website.\n",
    "        Your job is to extract the job postings and return them in JSON format containing the \n",
    "        following keys: `role`, `experience`, `skills` and `description`.\n",
    "        Only return the valid JSON.\n",
    "        ### VALID JSON (NO PREAMBLE):    \n",
    "        \"\"\"\n",
    ")"
   ]
  },
  {
   "cell_type": "code",
   "execution_count": 25,
   "id": "22c91721-b7c6-4ed7-9262-20d0c655e07d",
   "metadata": {},
   "outputs": [
    {
     "name": "stdout",
     "output_type": "stream",
     "text": [
      "Here is the extracted data in JSON format:\n",
      "\n",
      "```\n",
      "[\n",
      "  {\n",
      "    \"role\": \"Software Engineer III, Infrastructure, Core\",\n",
      "    \"experience\": \"Mid\",\n",
      "    \"skills\": [\"software development\", \"data structures\", \"algorithms\"],\n",
      "    \"description\": \"Bachelor’s degree or equivalent practical experience. 2 years of experience with software development in one or more programming languages, or 1 year of experience with an advanced degree. 2 years of experience with data structures or algorithms in either an academic or industry setting.\"\n",
      "  },\n",
      "  {\n",
      "    \"role\": \"Senior Software Engineer, Android Partner\",\n",
      "    \"experience\": \"Mid\",\n",
      "    \"skills\": [\"software development\", \"data structures\", \"algorithms\"],\n",
      "    \"description\": \"Bachelor’s degree or equivalent practical experience. 5 years of experience with software development in one or more programming languages, and with data structures/algorithms. Experience designing, analyzing and troubleshooting large-scale distributed systems.\"\n",
      "  },\n",
      "  {\n",
      "    \"role\": \"Persistent Disk Capacity Team Leader\",\n",
      "    \"experience\": \"Advanced\",\n",
      "    \"skills\": [\"software development\"],\n",
      "    \"description\": \"Bachelor’s degree or equivalent practical experience. 8 years of experience in software development.\"\n",
      "  },\n",
      "  {\n",
      "    \"role\": \"Software Engineer III, Google Cloud\",\n",
      "    \"experience\": \"Mid\",\n",
      "    \"skills\": [\"software development\", \"data structures\", \"algorithms\"],\n",
      "    \"description\": \"Bachelor’s degree or equivalent practical experience. 2 years of experience with software development in one or more programming languages, or 1 year of experience with an advanced degree. 2 years of experience with data structures or algorithms.\"\n",
      "  },\n",
      "  {\n",
      "    \"role\": \"Growth Manager, App Developer Sales (English, Mandarin)\",\n",
      "    \"experience\": \"Early\",\n",
      "    \"skills\": [\"advertising\", \"consultative sales\", \"business development\", \"online media environment\", \"marketing\"],\n",
      "    \"description\": \"Bachelor's degree or equivalent practical experience. 2 years of experience in advertising, consultative sales, business development, online media environment, or marketing role. Ability to communicate fluently in English and Mandarin to engage with clients in the region.\"\n",
      "  },\n",
      "  {\n",
      "    \"role\": \"Security Sales Specialist, Small/Medium Businesses (German)\",\n",
      "    \"experience\": \"Mid\",\n",
      "    \"skills\": [\"renewals\", \"account management\", \"sales\", \"customer-facing role\", \"enterprise software\", \"cloud space\"],\n",
      "    \"description\": \"Bachelor's degree or equivalent practical experience. 7 years of experience in renewals, account management, sales, or a customer-facing role in the enterprise software or cloud space. Experience selling to clients in the enterprise cybersecurity or IT field. Ability to communicate in German fluently to support client relationship management.\"\n",
      "  },\n",
      "  {\n",
      "    \"role\": \"Network RTL Design Engineer, Google Cloud\",\n",
      "    \"experience\": \"Mid\",\n",
      "    \"skills\": [\"Computer Science\", \"networking ASICs\", \"design networking\", \"system design principles\"],\n",
      "    \"description\": \"Bachelor's degree in Computer Science, a related field, or equivalent practical experience. 10 years of experience architecting networking ASICs from specification to production. Experience working with design networking like: RDMA and or packet processing and system design principles for low latency, throughput, security, and reliability.\"\n",
      "  },\n",
      "  {\n",
      "    \"role\": \"Account Manager, Large Customer Sales (English, Thai)\",\n",
      "    \"experience\": \"Early\",\n",
      "    \"skills\": [\"advertising\", \"consultative sales\", \"business development\", \"online media environment\", \"marketing\"],\n",
      "    \"description\": \"Bachelor's degree or equivalent practical experience. 2 years of experience in advertising, consultative sales, business development, online media environment, or marketing role. Ability to communicate in Thai and English fluently to interact in this customer-facing sales role.\"\n",
      "  },\n",
      "  {\n",
      "    \"role\": \"Senior System Software Engineer, Embedded Systems, Firmware, Pixel\",\n",
      "    \"experience\": \"Mid\",\n",
      "    \"skills\": [\"software development\", \"C programming language\", \"Android BSP\", \"Linux Drivers\"],\n",
      "    \"description\": \"Bachelor’s degree or equivalent practical experience. 5 years of experience with software development in C programming language, Android BSP and Linux Drivers. 3 years of experience testing, maintaining, or launching software products, and 1 year of experience with software design and architecture.\"\n",
      "  },\n",
      "  {\n",
      "    \"role\": \"Senior Software Engineer, Chrome Product Security\",\n",
      "    \"experience\": \"Mid\",\n",
      "    \"skills\": [\"software development\", \"data structures\", \"algorithms\", \"data privacy\", \"security\"],\n",
      "    \"description\": \"Bachelor’s degree or equivalent practical experience. 5 years of experience with software development in one or more programming languages, and with data structures/algorithms. 3 years of experience testing, maintaining, or launching software products, and 1 year of experience with software design and architecture. 3 years of experience building software for data privacy or security.\"\n",
      "  },\n",
      "  {\n",
      "    \"role\": \"Business Intelligence Analyst, Cloud Support\",\n",
      "    \"experience\": \"Mid\",\n",
      "    \"skills\": [\"data\", \"BI\", \"SQL\", \"data pipelines\"],\n",
      "    \"description\": \"Bachelor's degree or equivalent practical experience. 7 years of experience in a data, BI, or related role. Experience in SQL and designing and implementing data pipelines.\"\n",
      "  },\n",
      "  {\n",
      "    \"role\": \"Customer Engineer, Infrastructure Modernization, Public Sector\",\n",
      "    \"experience\": \"Mid\",\n",
      "    \"skills\": [\"cloud infrastructure engineering\", \"on-premise infrastructure engineering\", \"virtualization\", \"containerization platforms\"],\n",
      "    \"description\": \"Bachelor's degree or equivalent practical experience. 6 years of experience with cloud infrastructure engineering, on-premise infrastructure engineering, virtualization, or containerization platforms. Experience engaging with, and presenting to, technical stakeholders and executive leaders.\"\n",
      "  },\n",
      "  {\n",
      "    \"role\": \"Software Engineer II, Multiplatform, Server Driven UI (English)\",\n",
      "    \"experience\": \"Early\",\n",
      "    \"skills\": [\"software development\", \"programming languages\", \"data structures\", \"algorithms\"],\n",
      "    \"description\": \"Bachelor’s degree or equivalent practical experience. 1 year of experience with software development in one or more programming languages (e.g., Python, C, C++, Java, JavaScript). 1 year of experience with data structures or algorithms. Ability to communicate in English fluently to interact with local stakeholders in this customer-facing role.\"\n",
      "  },\n",
      "  {\n",
      "    \"role\": \"Custom Silicon Assembly and Test Operation Engineer\",\n",
      "    \"experience\": \"Mid\",\n",
      "    \"skills\": [\"program management\", \"semiconductor manufacturing/testing industry\", \"SoC\", \"PMIC productization\"],\n",
      "    \"description\": \"Bachelor's degree in a technical field, or equivalent practical experience. 5 years of experience in program management. 5 years of experience in semiconductor manufacturing/testing industry. Experience with SoC and PMIC productization.\"\n",
      "  },\n",
      "  {\n",
      "    \"role\": \"Strategic Partner Manager, Large Partner, Sellside Monetization\",\n",
      "    \"experience\": \"Early\",\n",
      "    \"skills\": [\"client management\", \"business\", \"related role\"],\n",
      "    \"description\": \"Bachelor's degree or equivalent practical experience. 1 year of experience in client management and business or a related role. Ability to communicate in Mandarin and English fluently to partner with local clients and region partners.\"\n",
      "  },\n",
      "  {\n",
      "    \"role\": \"Engineering Manager, Unified Autoscaling Team\",\n",
      "    \"experience\": \"Advanced\",\n",
      "    \"skills\": [\"software development\", \"technical leadership\", \"people management\"],\n",
      "    \"description\": \"Bachelor's degree or equivalent practical experience. 8 years of experience with software development in one or more programming languages (e.g., Python, C, C++, Java, JavaScript). 3 years of experience in a technical leadership role, overseeing projects, with 2 years of experience in a people management, supervision/team leadership role.\"\n",
      "  },\n",
      "  {\n",
      "    \"role\": \"Principal Architect, Google Cloud\",\n",
      "    \"experience\": \"Advanced\",\n",
      "    \"skills\": [\"cloud native architecture\", \"API technologies\", \"Geospatial API technology\", \"mapping application development\"],\n",
      "    \"description\": \"Bachelor's degree or equivalent practical experience. 10 years of experience with cloud native architecture in a customer-facing or support role. Experience with API technologies, such as Geospatial API technology, and experience with mapping application development and integration, using Google Map Platform or other Location or Maps platforms on web or mobile platforms (e.g. Android).\"\n",
      "  },\n",
      "  {\n",
      "    \"role\": \"Account Strategist, SBS Engage, GCS, (Ukrainian, English)\",\n",
      "    \"experience\": \"Early\",\n",
      "    \"skills\": [\"advertising\", \"sales\", \"marketing\", \"consulting\", \"media\"],\n",
      "    \"description\": \"Bachelor's degree or equivalent practical experience. 2 years of experience in advertising, sales, marketing, consulting, or media. Ability to communicate in Ukrainian and English fluently to support client relationship management in this region.\"\n",
      "  },\n",
      "  {\n",
      "    \"role\": \"Software Engineer, gReach Program for People with Disabilities (장애인 채용)\",\n",
      "    \"experience\": \"Early\",\n",
      "    \"skills\": [\"software development\", \"programming languages\", \"data structures\", \"algorithms\"],\n",
      "    \"description\": \"Bachelor’s degree or equivalent practical experience. 1 year of experience with software development in one or more programming languages (e.g., Python, C, C++, Java, JavaScript). 1 year of experience with data structures or algorithms. Ability to communicate in English and Korean fluently to collaborate with cross-functional teams in APAC and support client relationship management in Korea.\"\n",
      "  },\n",
      "  {\n",
      "    \"role\": \"Program Manager, AI Data Operations\",\n",
      "    \"experience\": \"Mid\",\n",
      "    \"skills\": [\"program management\", \"distributed systems\"],\n",
      "    \"description\": \"Bachelor's degree or equivalent practical experience. 5 years of experience in program management. Experience managing programs and processes across distributed systems.\"\n",
      "  }\n",
      "]\n",
      "```\n"
     ]
    }
   ],
   "source": [
    "chain_extract = prompt_extract | llm\n",
    "res = chain_extract.invoke(input={'page_data':page_data})\n",
    "print(res.content)"
   ]
  },
  {
   "cell_type": "code",
   "execution_count": 27,
   "id": "faa6ef7c-04f0-4622-9032-74249f1d6eb4",
   "metadata": {},
   "outputs": [
    {
     "data": {
      "text/plain": [
       "str"
      ]
     },
     "execution_count": 27,
     "metadata": {},
     "output_type": "execute_result"
    }
   ],
   "source": [
    "type(res.content)"
   ]
  },
  {
   "cell_type": "code",
   "execution_count": 29,
   "id": "87187e5a-8522-4861-aac3-77d61fa0c1f2",
   "metadata": {},
   "outputs": [],
   "source": [
    "from langchain_core.output_parsers import JsonOutputParser"
   ]
  },
  {
   "cell_type": "code",
   "execution_count": 31,
   "id": "650d0c01-0648-4750-8b2a-1cac467388ee",
   "metadata": {},
   "outputs": [
    {
     "name": "stdout",
     "output_type": "stream",
     "text": [
      "[{'role': 'Software Engineer III, Infrastructure, Core', 'experience': 'Mid', 'skills': ['software development', 'data structures', 'algorithms'], 'description': 'Bachelor’s degree or equivalent practical experience. 2 years of experience with software development in one or more programming languages, or 1 year of experience with an advanced degree. 2 years of experience with data structures or algorithms in either an academic or industry setting.'}, {'role': 'Senior Software Engineer, Android Partner', 'experience': 'Mid', 'skills': ['software development', 'data structures', 'algorithms'], 'description': 'Bachelor’s degree or equivalent practical experience. 5 years of experience with software development in one or more programming languages, and with data structures/algorithms. Experience designing, analyzing and troubleshooting large-scale distributed systems.'}, {'role': 'Persistent Disk Capacity Team Leader', 'experience': 'Advanced', 'skills': ['software development'], 'description': 'Bachelor’s degree or equivalent practical experience. 8 years of experience in software development.'}, {'role': 'Software Engineer III, Google Cloud', 'experience': 'Mid', 'skills': ['software development', 'data structures', 'algorithms'], 'description': 'Bachelor’s degree or equivalent practical experience. 2 years of experience with software development in one or more programming languages, or 1 year of experience with an advanced degree. 2 years of experience with data structures or algorithms.'}, {'role': 'Growth Manager, App Developer Sales (English, Mandarin)', 'experience': 'Early', 'skills': ['advertising', 'consultative sales', 'business development', 'online media environment', 'marketing'], 'description': \"Bachelor's degree or equivalent practical experience. 2 years of experience in advertising, consultative sales, business development, online media environment, or marketing role. Ability to communicate fluently in English and Mandarin to engage with clients in the region.\"}, {'role': 'Security Sales Specialist, Small/Medium Businesses (German)', 'experience': 'Mid', 'skills': ['renewals', 'account management', 'sales', 'customer-facing role', 'enterprise software', 'cloud space'], 'description': \"Bachelor's degree or equivalent practical experience. 7 years of experience in renewals, account management, sales, or a customer-facing role in the enterprise software or cloud space. Experience selling to clients in the enterprise cybersecurity or IT field. Ability to communicate in German fluently to support client relationship management.\"}, {'role': 'Network RTL Design Engineer, Google Cloud', 'experience': 'Mid', 'skills': ['Computer Science', 'networking ASICs', 'design networking', 'system design principles'], 'description': \"Bachelor's degree in Computer Science, a related field, or equivalent practical experience. 10 years of experience architecting networking ASICs from specification to production. Experience working with design networking like: RDMA and or packet processing and system design principles for low latency, throughput, security, and reliability.\"}, {'role': 'Account Manager, Large Customer Sales (English, Thai)', 'experience': 'Early', 'skills': ['advertising', 'consultative sales', 'business development', 'online media environment', 'marketing'], 'description': \"Bachelor's degree or equivalent practical experience. 2 years of experience in advertising, consultative sales, business development, online media environment, or marketing role. Ability to communicate in Thai and English fluently to interact in this customer-facing sales role.\"}, {'role': 'Senior System Software Engineer, Embedded Systems, Firmware, Pixel', 'experience': 'Mid', 'skills': ['software development', 'C programming language', 'Android BSP', 'Linux Drivers'], 'description': 'Bachelor’s degree or equivalent practical experience. 5 years of experience with software development in C programming language, Android BSP and Linux Drivers. 3 years of experience testing, maintaining, or launching software products, and 1 year of experience with software design and architecture.'}, {'role': 'Senior Software Engineer, Chrome Product Security', 'experience': 'Mid', 'skills': ['software development', 'data structures', 'algorithms', 'data privacy', 'security'], 'description': 'Bachelor’s degree or equivalent practical experience. 5 years of experience with software development in one or more programming languages, and with data structures/algorithms. 3 years of experience testing, maintaining, or launching software products, and 1 year of experience with software design and architecture. 3 years of experience building software for data privacy or security.'}, {'role': 'Business Intelligence Analyst, Cloud Support', 'experience': 'Mid', 'skills': ['data', 'BI', 'SQL', 'data pipelines'], 'description': \"Bachelor's degree or equivalent practical experience. 7 years of experience in a data, BI, or related role. Experience in SQL and designing and implementing data pipelines.\"}, {'role': 'Customer Engineer, Infrastructure Modernization, Public Sector', 'experience': 'Mid', 'skills': ['cloud infrastructure engineering', 'on-premise infrastructure engineering', 'virtualization', 'containerization platforms'], 'description': \"Bachelor's degree or equivalent practical experience. 6 years of experience with cloud infrastructure engineering, on-premise infrastructure engineering, virtualization, or containerization platforms. Experience engaging with, and presenting to, technical stakeholders and executive leaders.\"}, {'role': 'Software Engineer II, Multiplatform, Server Driven UI (English)', 'experience': 'Early', 'skills': ['software development', 'programming languages', 'data structures', 'algorithms'], 'description': 'Bachelor’s degree or equivalent practical experience. 1 year of experience with software development in one or more programming languages (e.g., Python, C, C++, Java, JavaScript). 1 year of experience with data structures or algorithms. Ability to communicate in English fluently to interact with local stakeholders in this customer-facing role.'}, {'role': 'Custom Silicon Assembly and Test Operation Engineer', 'experience': 'Mid', 'skills': ['program management', 'semiconductor manufacturing/testing industry', 'SoC', 'PMIC productization'], 'description': \"Bachelor's degree in a technical field, or equivalent practical experience. 5 years of experience in program management. 5 years of experience in semiconductor manufacturing/testing industry. Experience with SoC and PMIC productization.\"}, {'role': 'Strategic Partner Manager, Large Partner, Sellside Monetization', 'experience': 'Early', 'skills': ['client management', 'business', 'related role'], 'description': \"Bachelor's degree or equivalent practical experience. 1 year of experience in client management and business or a related role. Ability to communicate in Mandarin and English fluently to partner with local clients and region partners.\"}, {'role': 'Engineering Manager, Unified Autoscaling Team', 'experience': 'Advanced', 'skills': ['software development', 'technical leadership', 'people management'], 'description': \"Bachelor's degree or equivalent practical experience. 8 years of experience with software development in one or more programming languages (e.g., Python, C, C++, Java, JavaScript). 3 years of experience in a technical leadership role, overseeing projects, with 2 years of experience in a people management, supervision/team leadership role.\"}, {'role': 'Principal Architect, Google Cloud', 'experience': 'Advanced', 'skills': ['cloud native architecture', 'API technologies', 'Geospatial API technology', 'mapping application development'], 'description': \"Bachelor's degree or equivalent practical experience. 10 years of experience with cloud native architecture in a customer-facing or support role. Experience with API technologies, such as Geospatial API technology, and experience with mapping application development and integration, using Google Map Platform or other Location or Maps platforms on web or mobile platforms (e.g. Android).\"}, {'role': 'Account Strategist, SBS Engage, GCS, (Ukrainian, English)', 'experience': 'Early', 'skills': ['advertising', 'sales', 'marketing', 'consulting', 'media'], 'description': \"Bachelor's degree or equivalent practical experience. 2 years of experience in advertising, sales, marketing, consulting, or media. Ability to communicate in Ukrainian and English fluently to support client relationship management in this region.\"}, {'role': 'Software Engineer, gReach Program for People with Disabilities (장애인 채용)', 'experience': 'Early', 'skills': ['software development', 'programming languages', 'data structures', 'algorithms'], 'description': 'Bachelor’s degree or equivalent practical experience. 1 year of experience with software development in one or more programming languages (e.g., Python, C, C++, Java, JavaScript). 1 year of experience with data structures or algorithms. Ability to communicate in English and Korean fluently to collaborate with cross-functional teams in APAC and support client relationship management in Korea.'}, {'role': 'Program Manager, AI Data Operations', 'experience': 'Mid', 'skills': ['program management', 'distributed systems'], 'description': \"Bachelor's degree or equivalent practical experience. 5 years of experience in program management. Experience managing programs and processes across distributed systems.\"}]\n"
     ]
    }
   ],
   "source": [
    "json_parser = JsonOutputParser()\n",
    "json_res = json_parser.parse(res.content)\n",
    "print(json_res)"
   ]
  },
  {
   "cell_type": "code",
   "execution_count": 35,
   "id": "45209e43-38c7-4a68-b42f-53f8689e2cbc",
   "metadata": {},
   "outputs": [
    {
     "data": {
      "text/plain": [
       "dict"
      ]
     },
     "execution_count": 35,
     "metadata": {},
     "output_type": "execute_result"
    }
   ],
   "source": [
    "type(json_res[0])"
   ]
  },
  {
   "cell_type": "code",
   "execution_count": 37,
   "id": "403128e7-2f87-473b-ba2a-0df6e8afe38b",
   "metadata": {},
   "outputs": [],
   "source": [
    "import pandas as pd"
   ]
  },
  {
   "cell_type": "code",
   "execution_count": 41,
   "id": "2ced948a-30a9-4b01-9390-c01e204a0bc5",
   "metadata": {},
   "outputs": [],
   "source": [
    "df = pd.read_csv('my_portfolio.csv')"
   ]
  },
  {
   "cell_type": "code",
   "execution_count": 43,
   "id": "4b133abc-d904-4c35-af6c-5136f4004356",
   "metadata": {
    "scrolled": true
   },
   "outputs": [
    {
     "data": {
      "text/html": [
       "<div>\n",
       "<style scoped>\n",
       "    .dataframe tbody tr th:only-of-type {\n",
       "        vertical-align: middle;\n",
       "    }\n",
       "\n",
       "    .dataframe tbody tr th {\n",
       "        vertical-align: top;\n",
       "    }\n",
       "\n",
       "    .dataframe thead th {\n",
       "        text-align: right;\n",
       "    }\n",
       "</style>\n",
       "<table border=\"1\" class=\"dataframe\">\n",
       "  <thead>\n",
       "    <tr style=\"text-align: right;\">\n",
       "      <th></th>\n",
       "      <th>Techstack</th>\n",
       "      <th>Links</th>\n",
       "    </tr>\n",
       "  </thead>\n",
       "  <tbody>\n",
       "    <tr>\n",
       "      <th>0</th>\n",
       "      <td>React, Node.js, MongoDB</td>\n",
       "      <td>https://example.com/react-portfolio</td>\n",
       "    </tr>\n",
       "    <tr>\n",
       "      <th>1</th>\n",
       "      <td>Angular,.NET, SQL Server</td>\n",
       "      <td>https://example.com/angular-portfolio</td>\n",
       "    </tr>\n",
       "    <tr>\n",
       "      <th>2</th>\n",
       "      <td>Vue.js, Ruby on Rails, PostgreSQL</td>\n",
       "      <td>https://example.com/vue-portfolio</td>\n",
       "    </tr>\n",
       "    <tr>\n",
       "      <th>3</th>\n",
       "      <td>Python, Django, MySQL</td>\n",
       "      <td>https://example.com/python-portfolio</td>\n",
       "    </tr>\n",
       "    <tr>\n",
       "      <th>4</th>\n",
       "      <td>Java, Spring Boot, Oracle</td>\n",
       "      <td>https://example.com/java-portfolio</td>\n",
       "    </tr>\n",
       "    <tr>\n",
       "      <th>5</th>\n",
       "      <td>Flutter, Firebase, GraphQL</td>\n",
       "      <td>https://example.com/flutter-portfolio</td>\n",
       "    </tr>\n",
       "    <tr>\n",
       "      <th>6</th>\n",
       "      <td>WordPress, PHP, MySQL</td>\n",
       "      <td>https://example.com/wordpress-portfolio</td>\n",
       "    </tr>\n",
       "    <tr>\n",
       "      <th>7</th>\n",
       "      <td>Magento, PHP, MySQL</td>\n",
       "      <td>https://example.com/magento-portfolio</td>\n",
       "    </tr>\n",
       "    <tr>\n",
       "      <th>8</th>\n",
       "      <td>React Native, Node.js, MongoDB</td>\n",
       "      <td>https://example.com/react-native-portfolio</td>\n",
       "    </tr>\n",
       "    <tr>\n",
       "      <th>9</th>\n",
       "      <td>iOS, Swift, Core Data</td>\n",
       "      <td>https://example.com/ios-portfolio</td>\n",
       "    </tr>\n",
       "    <tr>\n",
       "      <th>10</th>\n",
       "      <td>Android, Java, Room Persistence</td>\n",
       "      <td>https://example.com/android-portfolio</td>\n",
       "    </tr>\n",
       "    <tr>\n",
       "      <th>11</th>\n",
       "      <td>Kotlin, Android, Firebase</td>\n",
       "      <td>https://example.com/kotlin-android-portfolio</td>\n",
       "    </tr>\n",
       "    <tr>\n",
       "      <th>12</th>\n",
       "      <td>Android TV, Kotlin, Android NDK</td>\n",
       "      <td>https://example.com/android-tv-portfolio</td>\n",
       "    </tr>\n",
       "    <tr>\n",
       "      <th>13</th>\n",
       "      <td>iOS, Swift, ARKit</td>\n",
       "      <td>https://example.com/ios-ar-portfolio</td>\n",
       "    </tr>\n",
       "    <tr>\n",
       "      <th>14</th>\n",
       "      <td>Cross-platform, Xamarin, Azure</td>\n",
       "      <td>https://example.com/xamarin-portfolio</td>\n",
       "    </tr>\n",
       "    <tr>\n",
       "      <th>15</th>\n",
       "      <td>Backend, Kotlin, Spring Boot</td>\n",
       "      <td>https://example.com/kotlin-backend-portfolio</td>\n",
       "    </tr>\n",
       "    <tr>\n",
       "      <th>16</th>\n",
       "      <td>Frontend, TypeScript, Angular</td>\n",
       "      <td>https://example.com/typescript-frontend-portfolio</td>\n",
       "    </tr>\n",
       "    <tr>\n",
       "      <th>17</th>\n",
       "      <td>Full-stack, JavaScript, Express.js</td>\n",
       "      <td>https://example.com/full-stack-js-portfolio</td>\n",
       "    </tr>\n",
       "    <tr>\n",
       "      <th>18</th>\n",
       "      <td>Machine Learning, Python, TensorFlow</td>\n",
       "      <td>https://example.com/ml-python-portfolio</td>\n",
       "    </tr>\n",
       "    <tr>\n",
       "      <th>19</th>\n",
       "      <td>DevOps, Jenkins, Docker</td>\n",
       "      <td>https://example.com/devops-portfolio</td>\n",
       "    </tr>\n",
       "  </tbody>\n",
       "</table>\n",
       "</div>"
      ],
      "text/plain": [
       "                               Techstack  \\\n",
       "0                React, Node.js, MongoDB   \n",
       "1               Angular,.NET, SQL Server   \n",
       "2      Vue.js, Ruby on Rails, PostgreSQL   \n",
       "3                  Python, Django, MySQL   \n",
       "4              Java, Spring Boot, Oracle   \n",
       "5             Flutter, Firebase, GraphQL   \n",
       "6                  WordPress, PHP, MySQL   \n",
       "7                    Magento, PHP, MySQL   \n",
       "8         React Native, Node.js, MongoDB   \n",
       "9                  iOS, Swift, Core Data   \n",
       "10       Android, Java, Room Persistence   \n",
       "11             Kotlin, Android, Firebase   \n",
       "12       Android TV, Kotlin, Android NDK   \n",
       "13                     iOS, Swift, ARKit   \n",
       "14        Cross-platform, Xamarin, Azure   \n",
       "15          Backend, Kotlin, Spring Boot   \n",
       "16         Frontend, TypeScript, Angular   \n",
       "17    Full-stack, JavaScript, Express.js   \n",
       "18  Machine Learning, Python, TensorFlow   \n",
       "19               DevOps, Jenkins, Docker   \n",
       "\n",
       "                                                Links  \n",
       "0                 https://example.com/react-portfolio  \n",
       "1               https://example.com/angular-portfolio  \n",
       "2                   https://example.com/vue-portfolio  \n",
       "3                https://example.com/python-portfolio  \n",
       "4                  https://example.com/java-portfolio  \n",
       "5               https://example.com/flutter-portfolio  \n",
       "6             https://example.com/wordpress-portfolio  \n",
       "7               https://example.com/magento-portfolio  \n",
       "8          https://example.com/react-native-portfolio  \n",
       "9                   https://example.com/ios-portfolio  \n",
       "10              https://example.com/android-portfolio  \n",
       "11       https://example.com/kotlin-android-portfolio  \n",
       "12           https://example.com/android-tv-portfolio  \n",
       "13               https://example.com/ios-ar-portfolio  \n",
       "14              https://example.com/xamarin-portfolio  \n",
       "15       https://example.com/kotlin-backend-portfolio  \n",
       "16  https://example.com/typescript-frontend-portfolio  \n",
       "17        https://example.com/full-stack-js-portfolio  \n",
       "18            https://example.com/ml-python-portfolio  \n",
       "19               https://example.com/devops-portfolio  "
      ]
     },
     "execution_count": 43,
     "metadata": {},
     "output_type": "execute_result"
    }
   ],
   "source": [
    "df"
   ]
  },
  {
   "cell_type": "code",
   "execution_count": 45,
   "id": "ff13aecf-a302-4ff1-8fa8-841ad4668b06",
   "metadata": {},
   "outputs": [],
   "source": [
    "import uuid\n",
    "import chromadb\n",
    "\n",
    "client = chromadb.PersistentClient('vectorstore')\n",
    "collection = client.get_or_create_collection(name=\"portfolio\")\n",
    "\n",
    "if not collection.count():\n",
    "    for _, row in df.iterrows():\n",
    "        collection.add(documents=row[\"Techstack\"],\n",
    "                       metadatas={\"links\": row[\"Links\"]},\n",
    "                       ids=[str(uuid.uuid4())])"
   ]
  },
  {
   "cell_type": "code",
   "execution_count": 49,
   "id": "3332fd16-50f0-4430-b399-04fb359ce1e5",
   "metadata": {},
   "outputs": [
    {
     "data": {
      "text/plain": [
       "[[{'links': 'https://example.com/ml-python-portfolio'},\n",
       "  {'links': 'https://example.com/python-portfolio'}],\n",
       " [{'links': 'https://example.com/react-portfolio'},\n",
       "  {'links': 'https://example.com/react-native-portfolio'}]]"
      ]
     },
     "execution_count": 49,
     "metadata": {},
     "output_type": "execute_result"
    }
   ],
   "source": [
    "links = collection.query(query_texts=['Expertise in Python', 'Expertise in React'], n_results=2).get('metadatas', [])\n",
    "links"
   ]
  },
  {
   "cell_type": "code",
   "execution_count": 69,
   "id": "f3f92136-1be2-4864-854c-9aadcd90b5b4",
   "metadata": {},
   "outputs": [
    {
     "data": {
      "text/plain": [
       "['software development', 'data structures', 'algorithms']"
      ]
     },
     "execution_count": 69,
     "metadata": {},
     "output_type": "execute_result"
    }
   ],
   "source": [
    "job = json_res[0]\n",
    "job['skills']"
   ]
  },
  {
   "cell_type": "code",
   "execution_count": 71,
   "id": "6b6f4f8d-6100-4b4d-9a12-5335d896bc0e",
   "metadata": {},
   "outputs": [
    {
     "data": {
      "text/plain": [
       "'Bachelor’s degree or equivalent practical experience. 2 years of experience with software development in one or more programming languages, or 1 year of experience with an advanced degree. 2 years of experience with data structures or algorithms in either an academic or industry setting.'"
      ]
     },
     "execution_count": 71,
     "metadata": {},
     "output_type": "execute_result"
    }
   ],
   "source": [
    "job['description']"
   ]
  },
  {
   "cell_type": "code",
   "execution_count": 75,
   "id": "c52e8795-0b45-42a7-b260-7c66be4b03b7",
   "metadata": {},
   "outputs": [
    {
     "name": "stdout",
     "output_type": "stream",
     "text": [
      "Here is the cold email:\n",
      "\n",
      "Subject: Expert Software Engineers for Your Infrastructure Needs\n",
      "\n",
      "Dear [Client],\n",
      "\n",
      "I came across your job posting for a Software Engineer III, Infrastructure, Core, and I'm excited to introduce Imbuelucent, a leading AI & Software Consulting company that can help you find the perfect fit for your team.\n",
      "\n",
      "With our expertise in software development, data structures, and algorithms, we can provide you with top-notch engineers who can hit the ground running. Our team has a proven track record of delivering scalable and efficient solutions that meet the highest standards.\n",
      "\n",
      "Our portfolio showcases our capabilities in software development, including our work in machine learning and Python development (https://example.com/ml-python-portfolio, https://example.com/python-portfolio). We're confident that our expertise can help you achieve your infrastructure goals.\n",
      "\n",
      "If you're looking for a reliable partner to help you find the right talent, I'd love to discuss how Imbuelucent can support your hiring needs. Please let me know if you'd like to schedule a call to explore further.\n",
      "\n",
      "Best regards,\n",
      "\n",
      "Adheesh\n",
      "Business Development Executive, Imbuelucent\n"
     ]
    }
   ],
   "source": [
    "prompt_email = PromptTemplate.from_template(\n",
    "        \"\"\"\n",
    "        ### JOB DESCRIPTION:\n",
    "        {job_description}\n",
    "        \n",
    "        ### INSTRUCTION:\n",
    "        You are Adheesh, a business development executive at Imbuelucent. Imbuelucent is an AI & Software Consulting company dedicated to facilitating\n",
    "        the seamless integration of business processes through automated tools. \n",
    "        Over our experience, we have empowered numerous enterprises with tailored solutions, fostering scalability, \n",
    "        process optimization, cost reduction, and heightened overall efficiency. \n",
    "        Your job is to write a cold email to the client regarding the job mentioned above describing the capability of Imbuelucent \n",
    "        in fulfilling their needs.\n",
    "        Also add the most relevant ones from the following links to showcase Imbuelucent's portfolio: {link_list}\n",
    "        Remember you are Adheesh, BDE at Imbuelucent. \n",
    "        Do not provide a preamble.\n",
    "        ### EMAIL (NO PREAMBLE):\n",
    "        \n",
    "        \"\"\"\n",
    "        )\n",
    "\n",
    "chain_email = prompt_email | llm\n",
    "res = chain_email.invoke({\"job_description\": str(job), \"link_list\": links})\n",
    "print(res.content)"
   ]
  },
  {
   "cell_type": "code",
   "execution_count": null,
   "id": "bf47f231-5010-480b-8679-314bda804e35",
   "metadata": {},
   "outputs": [],
   "source": []
  }
 ],
 "metadata": {
  "kernelspec": {
   "display_name": "Python 3.10 (onnx_env)",
   "language": "python",
   "name": "onnx_env"
  },
  "language_info": {
   "codemirror_mode": {
    "name": "ipython",
    "version": 3
   },
   "file_extension": ".py",
   "mimetype": "text/x-python",
   "name": "python",
   "nbconvert_exporter": "python",
   "pygments_lexer": "ipython3",
   "version": "3.10.18"
  }
 },
 "nbformat": 4,
 "nbformat_minor": 5
}
