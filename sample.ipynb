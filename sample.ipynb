{
 "cells": [
  {
   "cell_type": "code",
   "execution_count": 2,
   "id": "40fcf117-6eeb-48d1-8a01-ce1da16dbd5c",
   "metadata": {},
   "outputs": [
    {
     "name": "stdout",
     "output_type": "stream",
     "text": [
      "What a great question!\n",
      "\n",
      "While opinions may vary, I'd argue that the best all-format batsman for South Africa in the modern age is AB de Villiers. Here's why:\n",
      "\n",
      "1. **Consistency**: De Villiers has been an incredibly consistent performer across all formats, with a career spanning over 15 years. He has played 114 Tests, 228 ODIs, and 78 T20Is, with an impressive average in each format.\n",
      "2. **Test cricket**: In Tests, de Villiers averages 50.66, with 22 centuries and 46 fifties. He has been instrumental in many of South Africa's victories, including a memorable series win in Australia in 2012-13.\n",
      "3. **ODI cricket**: In ODIs, de Villiers averages 53.50, with 25 centuries and 59 fifties. He has been a key player in South Africa's ODI team, helping them reach the semifinals of the 2015 World Cup.\n",
      "4. **T20 cricket**: In T20Is, de Villiers averages 26.12, with a strike rate of 135.16. While his T20I average might not be as high as his Test or ODI average, he has been a destructive force in the format, with a highest score of 79*.\n",
      "5. **Innovative style**: De Villiers is known for his unorthodox and innovative batting style, which has made him a nightmare for bowlers across formats. His ability to play 360-degree cricket, combined with his exceptional hand-eye coordination, has made him a joy to watch.\n",
      "6. **Leadership**: De Villiers has also been an effective captain, leading South Africa in all formats. He has a strong tactical mind and has inspired his teammates with his leadership.\n",
      "\n",
      "While other South African batsmen, like Hashim Amla, Jacques Kallis, and Faf du Plessis, have also had impressive careers, AB de Villiers' consistency, innovative style, and leadership qualities make a strong case for him as the best all-format batsman for South Africa in the modern age.\n"
     ]
    }
   ],
   "source": [
    "llm = ChatGroq(\n",
    "    temperature=0,\n",
    "    groq_api_key='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',\n",
    "    model_name=\"llama3-70b-8192\"\n",
    ")\n",
    "\n",
    "response = llm.invoke('The best all format South Africa batsman of modern age is ...')\n",
    "\n",
    "print(response.content)\n"
   ]
  },
  {
   "cell_type": "code",
   "execution_count": null,
   "id": "26e8a8b1-cef7-46ae-8bdf-6afd43dc1dab",
   "metadata": {},
   "outputs": [],
   "source": []
  }
 ],
 "metadata": {
  "kernelspec": {
   "display_name": "Python 3 (ipykernel)",
   "language": "python",
   "name": "python3"
  },
  "language_info": {
   "codemirror_mode": {
    "name": "ipython",
    "version": 3
   },
   "file_extension": ".py",
   "mimetype": "text/x-python",
   "name": "python",
   "nbconvert_exporter": "python",
   "pygments_lexer": "ipython3",
   "version": "3.12.4"
  }
 },
 "nbformat": 4,
 "nbformat_minor": 5
}
